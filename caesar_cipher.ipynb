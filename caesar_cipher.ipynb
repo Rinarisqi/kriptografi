{
  "nbformat": 4,
  "nbformat_minor": 0,
  "metadata": {
    "colab": {
      "name": "caesar_cipher.ipynb",
      "provenance": []
    },
    "kernelspec": {
      "name": "python3",
      "display_name": "Python 3"
    },
    "language_info": {
      "name": "python"
    }
  },
  "cells": [
    {
      "cell_type": "code",
      "metadata": {
        "id": "Ntfg8AhLokGi"
      },
      "source": [
        "#Nama       : Dimas Wahyu Damarjati\n",
        "#NIM        : A11.2018.10871\n",
        "#Kelompok   : A11.4611\t"
      ],
      "execution_count": 1,
      "outputs": []
    },
    {
      "cell_type": "code",
      "metadata": {
        "id": "JQ31hTiZpm_x"
      },
      "source": [
        "import string"
      ],
      "execution_count": 2,
      "outputs": []
    },
    {
      "cell_type": "code",
      "metadata": {
        "colab": {
          "base_uri": "https://localhost:8080/"
        },
        "id": "OMm3xmBMpvbC",
        "outputId": "046651dc-879d-4220-ccfc-2179ce4477c9"
      },
      "source": [
        "def caesar_encrypt(data,key):\n",
        "    res = \"\"\n",
        "    for x in range(len(data)):\n",
        "        if data[x].isupper():\n",
        "            pos = string.ascii_uppercase.index(data[x]) + key\n",
        "            pos = pos % 26\n",
        "            res += string.ascii_uppercase[pos]\n",
        "        elif data[x].islower():\n",
        "            pos = string.ascii_lowercase.index(data[x]) + key\n",
        "            pos = pos % 26\n",
        "            res += string.ascii_lowercase[pos]\n",
        "        else:\n",
        "            res += data[x]\n",
        "    return res\n",
        "\n",
        "def caesar_decrypt(data,key):\n",
        "    res = \"\"\n",
        "    for x in range(len(data)):\n",
        "        if data[x].isupper():\n",
        "            pos = string.ascii_uppercase.index(data[x]) - key\n",
        "            pos = pos % 26\n",
        "            res += string.ascii_uppercase[pos]\n",
        "        elif data[x].islower():\n",
        "            pos = string.ascii_lowercase.index(data[x]) - key\n",
        "            pos = pos % 26\n",
        "            res += string.ascii_lowercase[pos]\n",
        "        else:\n",
        "            res += data[x]\n",
        "    return res\n",
        "\n",
        "def main():\n",
        "    enc = caesar_encrypt(\"DIMAS WAHYU DAMARJATI\",19)\n",
        "    print(enc)\n",
        "    dec = caesar_decrypt(enc,19)\n",
        "    print(dec)\n",
        "\n",
        "if __name__ == \"__main__\":\n",
        "    main()"
      ],
      "execution_count": 3,
      "outputs": [
        {
          "output_type": "stream",
          "text": [
            "WBFTL PTARN WTFTKCTMB\n",
            "DIMAS WAHYU DAMARJATI\n"
          ],
          "name": "stdout"
        }
      ]
    },
    {
      "cell_type": "code",
      "metadata": {
        "id": "Ci78Ljovp7Hr"
      },
      "source": [
        ""
      ],
      "execution_count": null,
      "outputs": []
    }
  ]
}