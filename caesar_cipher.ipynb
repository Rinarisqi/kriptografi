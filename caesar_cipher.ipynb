{
  "nbformat": 4,
  "nbformat_minor": 0,
  "metadata": {
    "colab": {
      "name": "Untitled3.ipynb",
      "provenance": []
    },
    "kernelspec": {
      "name": "python3",
      "display_name": "Python 3"
    },
    "language_info": {
      "name": "python"
    }
  },
  "cells": [
    {
      "cell_type": "code",
      "metadata": {
        "id": "B7XLjem4srpk"
      },
      "source": [
        "#Nama       : Rina Risqi Ardani\n",
        "#NIM        : A11.2018.10867\n",
        "#Kelompok   : A11.4611"
      ],
      "execution_count": 1,
      "outputs": []
    },
    {
      "cell_type": "code",
      "metadata": {
        "id": "p5updzmzs7C8"
      },
      "source": [
        "import string"
      ],
      "execution_count": 2,
      "outputs": []
    },
    {
      "cell_type": "code",
      "metadata": {
        "colab": {
          "base_uri": "https://localhost:8080/"
        },
        "id": "_gLj2foYtFBS",
        "outputId": "18d69bfe-1419-4e1f-af0c-74cd9bb8cbba"
      },
      "source": [
        "def caesar_encrypt(data,key):\n",
        "    res = \"\"\n",
        "    for x in range(len(data)):\n",
        "        if data[x].isupper():\n",
        "            pos = string.ascii_uppercase.index(data[x]) + key\n",
        "            pos = pos % 26\n",
        "            res += string.ascii_uppercase[pos]\n",
        "        elif data[x].islower():\n",
        "            pos = string.ascii_lowercase.index(data[x]) + key\n",
        "            pos = pos % 26\n",
        "            res += string.ascii_lowercase[pos]\n",
        "        else:\n",
        "            res += data[x]\n",
        "    return res\n",
        "\n",
        "def caesar_decrypt(data,key):\n",
        "    res = \"\"\n",
        "    for x in range(len(data)):\n",
        "        if data[x].isupper():\n",
        "            pos = string.ascii_uppercase.index(data[x]) - key\n",
        "            pos = pos % 26\n",
        "            res += string.ascii_uppercase[pos]\n",
        "        elif data[x].islower():\n",
        "            pos = string.ascii_lowercase.index(data[x]) - key\n",
        "            pos = pos % 26\n",
        "            res += string.ascii_lowercase[pos]\n",
        "        else:\n",
        "            res += data[x]\n",
        "    return res\n",
        "\n",
        "def main():\n",
        "    enc = caesar_encrypt(\"Rina Risqi Ardani\",19)\n",
        "    print(enc)\n",
        "    dec = caesar_decrypt(enc,19)\n",
        "    print(dec)\n",
        "\n",
        "if __name__ == \"__main__\":\n",
        "    main()"
      ],
      "execution_count": 3,
      "outputs": [
        {
          "output_type": "stream",
          "text": [
            "Kbgt Kbljb Tkwtgb\n",
            "Rina Risqi Ardani\n"
          ],
          "name": "stdout"
        }
      ]
    },
    {
      "cell_type": "code",
      "metadata": {
        "id": "W1Cu8cnQtMHi"
      },
      "source": [
        ""
      ],
      "execution_count": null,
      "outputs": []
    }
  ]
}