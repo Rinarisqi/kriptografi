{
  "nbformat": 4,
  "nbformat_minor": 0,
  "metadata": {
    "colab": {
      "name": "vigenere_cipher.ipynb",
      "provenance": [],
      "collapsed_sections": []
    },
    "kernelspec": {
      "name": "python3",
      "display_name": "Python 3"
    },
    "language_info": {
      "name": "python"
    }
  },
  "cells": [
    {
      "cell_type": "code",
      "metadata": {
        "colab": {
          "base_uri": "https://localhost:8080/"
        },
        "id": "dAvPx_Y7OVXr",
        "outputId": "a19c12a5-c092-4688-c098-983266644445"
      },
      "source": [
        "#Dimas Wahyu Damarjati\n",
        "#A11.2018.10871\n",
        "\n",
        "import re\n",
        "import string\n",
        "\n",
        "alphabets = \"abcdefghijklmnopqrstuvwxyz\"\n",
        "def encrypt(p, k):\n",
        "    c = \"\"\n",
        "    kpos = [] # return the index of characters ex: if k='d' then kpos= 3\n",
        "    for x in k:\n",
        "       # kpos += alphabets.find(x) #change the int value to string\n",
        "        kpos.append(alphabets.find(x))\n",
        "    i = 0\n",
        "    for x in p:\n",
        "      if i == len(kpos):\n",
        "          i = 0\n",
        "      pos = alphabets.find(x) + kpos[i] #find the number or index of the character and perform the shift with the key\n",
        "      print(pos)\n",
        "      if pos > 25:\n",
        "          pos = pos-26               # check you exceed the limit\n",
        "      c += alphabets[pos].capitalize()  #because the cipher text always capital letters\n",
        "      i +=1\n",
        "    return c\n",
        "\n",
        "def decrypt(c, k):\n",
        "    p = \"\"\n",
        "    kpos = []\n",
        "    for x in k:\n",
        "        kpos.append(alphabets.find(x))\n",
        "    i = 0\n",
        "    for x in c:\n",
        "      if i == len(kpos):\n",
        "          i = 0\n",
        "      pos = alphabets.find(x.lower()) - kpos[i]\n",
        "      if pos < 0:\n",
        "          pos = pos + 26\n",
        "      p += alphabets[pos].lower()\n",
        "      i +=1\n",
        "    return p\n",
        "try:\n",
        "    print(\"Welcome to Vigenere Cipher.\\n\\n\"\n",
        "          \"The text message should contain only characters and the key should be one character word \\n\"\n",
        "          \"Press 1 to Enrypt a message \\npress 2 to Decrypt a message\")\n",
        "    choose = input(\"Choice: \")\n",
        "    if choose == '1':\n",
        "       p = input(\"enter the plain text: \")\n",
        "       p = p.replace(\" \", \"\")  # this will make sure that there is no space in the message\n",
        "       if p.isalpha():\n",
        "           k = input(\"Enter the key: \")\n",
        "           k = k.strip()  # remove the white spaces from both sides\n",
        "           if k.isalpha():\n",
        "              # print(k)\n",
        "               c = encrypt(p, k)\n",
        "               print(\"The cipher text is: \", c)\n",
        "\n",
        "           else:\n",
        "               print(k)\n",
        "               print(\"Enter valid key, key is only one character word!\")\n",
        "       else:\n",
        "           print(\"only letters are allowed !!\")\n",
        "\n",
        "    elif choose == '2':\n",
        "        c = input(\"enter the cipher text: \")\n",
        "        c = c.replace(\" \", \"\")\n",
        "        if c.isalpha():\n",
        "            k = input(\"Enter the key: \")\n",
        "            if not k.isalpha():\n",
        "                print(\"Enter valid key, key is only one character word!\")\n",
        "            else:\n",
        "                p = decrypt(c, k)\n",
        "                print(\"The plain text is: \", p)\n",
        "        else:\n",
        "            print(\"only letters are allowed!\")\n",
        "\n",
        "    else:\n",
        "        print(\"Please enter a valid choice!\")\n",
        "except Exception as e:\n",
        "    print(e)\n",
        "    exit(\"Enter a valid text please! \")"
      ],
      "execution_count": null,
      "outputs": [
        {
          "output_type": "stream",
          "text": [
            "Welcome to vigenere cipher.\n",
            "\n",
            "The text message should contain only characters and the key should be one character word \n",
            "Press 1 to Enrypt a message \n",
            "press 2 to Decrypt a message\n"
          ],
          "name": "stdout"
        }
      ]
    },
    {
      "cell_type": "code",
      "metadata": {
        "id": "79jWx_wLPyD3"
      },
      "source": [
        ""
      ],
      "execution_count": null,
      "outputs": []
    }
  ]
}